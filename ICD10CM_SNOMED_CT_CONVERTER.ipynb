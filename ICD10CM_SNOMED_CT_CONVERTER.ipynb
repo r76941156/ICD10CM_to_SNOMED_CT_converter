{
 "cells": [
  {
   "cell_type": "code",
   "execution_count": null,
   "id": "8d16d48f",
   "metadata": {},
   "outputs": [],
   "source": [
    "#pip install pandasql "
   ]
  },
  {
   "cell_type": "code",
   "execution_count": null,
   "id": "3f4f22e2",
   "metadata": {},
   "outputs": [],
   "source": [
    "# Go to OHDSI Athena 網站下載 OHDSI vocabulary: ICD10CM and SNOMED\n",
    "# https://athena.ohdsi.org/vocabulary/list"
   ]
  },
  {
   "cell_type": "code",
   "execution_count": 1,
   "id": "ec8ec652",
   "metadata": {},
   "outputs": [
    {
     "name": "stderr",
     "output_type": "stream",
     "text": [
      "C:\\ProgramData\\Anaconda3\\lib\\site-packages\\IPython\\core\\interactiveshell.py:3444: DtypeWarning: Columns (5,6,9) have mixed types.Specify dtype option on import or set low_memory=False.\n",
      "  exec(code_obj, self.user_global_ns, self.user_ns)\n"
     ]
    },
    {
     "name": "stdout",
     "output_type": "stream",
     "text": [
      "start\n",
      "Unique ICD-10 Codes: 97439\n",
      "Total Records: 128055\n",
      "Done!\n"
     ]
    }
   ],
   "source": [
    "import pandas as pd\n",
    "import pandasql as psql\n",
    "\n",
    "# Read CSV files into a DataFrame\n",
    "concept_df = pd.read_csv(r\"C:\\Users\\wuche\\Downloads\\ICD10_SNOMED_CT\\CONCEPT.csv\", sep=\"\\t\")  # concept table\n",
    "\n",
    "concept_rel_df = pd.read_csv(r\"C:\\Users\\wuche\\Downloads\\ICD10_SNOMED_CT\\concept_relationship.csv\", sep=\"\\t\")  # concept_relationship table\n",
    "\n",
    "# Run an SQL query on two DataFrames\n",
    "query= \"\"\"\n",
    "SELECT \n",
    "    source.concept_code AS icd10_code, \n",
    "    source.concept_name AS icd10_name, \n",
    "    target.concept_code AS snomed_code, \n",
    "    target.concept_name AS snomed_name\n",
    "FROM \n",
    "    concept_df AS source\n",
    "INNER JOIN \n",
    "    concept_rel_df AS cr ON source.concept_id = cr.concept_id_1\n",
    "INNER JOIN \n",
    "    concept_df AS target ON cr.concept_id_2 = target.concept_id\n",
    "WHERE \n",
    "     source.vocabulary_id = 'ICD10CM' \n",
    "     and target.vocabulary_id = 'SNOMED'\n",
    "     and cr.relationship_id = 'Maps to'\n",
    "     and cr.invalid_reason IS NULL\n",
    "\n",
    "\"\"\"\n",
    "print(\"start\")\n",
    "result_df = psql.sqldf(query, locals())  # Execute SQL on DataFrame\n",
    "\n",
    "# Display result\n",
    "# for index, row in result_df.iterrows():\n",
    "#     print(f\"Row {index}: ICD10_CODE={row['icd10_code']}, ICD10_NAME={row['icd10_name']}, SNOMED_CODE={row['snomed_code']}, SNOMED_NAME={row['snomed_name']}\")\n",
    "\n",
    "result_df.to_csv(\"output.csv\", index=False)  # Save without index\n",
    "\n",
    "# Unique ICD code count\n",
    "unique_icd_count = result_df['icd10_code'].nunique()\n",
    "\n",
    "# Count total records\n",
    "total_records = result_df.shape[0]\n",
    "\n",
    "# Print results\n",
    "print(f\"Unique ICD-10 Codes: {unique_icd_count}\")\n",
    "print(f\"Total Records: {total_records}\")\n",
    "\n",
    "print(\"Done!\")"
   ]
  },
  {
   "cell_type": "code",
   "execution_count": null,
   "id": "b1de62ea",
   "metadata": {},
   "outputs": [],
   "source": []
  }
 ],
 "metadata": {
  "kernelspec": {
   "display_name": "Python 3 (ipykernel)",
   "language": "python",
   "name": "python3"
  },
  "language_info": {
   "codemirror_mode": {
    "name": "ipython",
    "version": 3
   },
   "file_extension": ".py",
   "mimetype": "text/x-python",
   "name": "python",
   "nbconvert_exporter": "python",
   "pygments_lexer": "ipython3",
   "version": "3.9.7"
  }
 },
 "nbformat": 4,
 "nbformat_minor": 5
}
