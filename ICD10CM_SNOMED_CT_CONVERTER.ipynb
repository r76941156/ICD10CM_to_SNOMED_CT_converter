{
 "cells": [
  {
   "cell_type": "code",
   "execution_count": null,
   "id": "8d16d48f",
   "metadata": {},
   "outputs": [],
   "source": [
    "#pip install pandasql "
   ]
  },
  {
   "cell_type": "markdown",
   "id": "d61b1881",
   "metadata": {},
   "source": [
    "# Go to OHDSI Athena 網站下載 OHDSI vocabulary: ICD10CM and SNOMED\n",
    "# https://athena.ohdsi.org/vocabulary/list"
   ]
  },
  {
   "cell_type": "markdown",
   "id": "16cb5c6c",
   "metadata": {},
   "source": [
    "###  Use to produce ICD10 CM to SNOMED CT codes\n",
    "#### SNOMED CT versioin: 01-Feb-2024\n",
    "#### ICD10 CM version: 01-Oct-2024"
   ]
  },
  {
   "cell_type": "code",
   "execution_count": 27,
   "id": "ec8ec652",
   "metadata": {},
   "outputs": [
    {
     "name": "stderr",
     "output_type": "stream",
     "text": [
      "C:\\ProgramData\\Anaconda3\\lib\\site-packages\\IPython\\core\\interactiveshell.py:3444: DtypeWarning: Columns (5,6,9) have mixed types.Specify dtype option on import or set low_memory=False.\n",
      "  exec(code_obj, self.user_global_ns, self.user_ns)\n"
     ]
    },
    {
     "name": "stdout",
     "output_type": "stream",
     "text": [
      "start\n",
      "Unique ICD-10 Codes: 97439\n",
      "Total Records: 128055\n",
      "Done!\n"
     ]
    }
   ],
   "source": [
    "import pandas as pd\n",
    "import pandasql as psql\n",
    "\n",
    "# Read CSV files into DataFrames\n",
    "\n",
    "concept_df = pd.read_csv(r\"C:\\Users\\wuche\\Downloads\\ICD_SNOMED\\CONCEPT.csv\", sep=\"\\t\")  # concept table\n",
    "\n",
    "concept_rel_df = pd.read_csv(r\"C:\\Users\\wuche\\Downloads\\ICD_SNOMED\\concept_relationship.csv\", sep=\"\\t\")  # concept_relationship table\n",
    "\n",
    "# Run an SQL query on two DataFrames\n",
    "query= \"\"\"\n",
    "SELECT \n",
    "    source.concept_code AS icd10_code, \n",
    "    source.concept_name AS icd10_name, \n",
    "    target.concept_code AS snomed_code, \n",
    "    target.concept_name AS snomed_name\n",
    "FROM \n",
    "    concept_df AS source\n",
    "INNER JOIN \n",
    "    concept_rel_df AS cr ON source.concept_id = cr.concept_id_1\n",
    "INNER JOIN \n",
    "    concept_df AS target ON cr.concept_id_2 = target.concept_id\n",
    "WHERE \n",
    "     source.vocabulary_id = 'ICD10CM' \n",
    "     and target.vocabulary_id = 'SNOMED'\n",
    "     and cr.relationship_id = 'Maps to'\n",
    "     and cr.invalid_reason IS NULL\n",
    "\n",
    "\"\"\"\n",
    "print(\"start\")\n",
    "result_df = psql.sqldf(query, locals())  # Execute SQL on DataFrame\n",
    "\n",
    "# Display result\n",
    "# for index, row in result_df.iterrows():\n",
    "#     print(f\"Row {index}: ICD10_CODE={row['icd10_code']}, ICD10_NAME={row['icd10_name']}, SNOMED_CODE={row['snomed_code']}, SNOMED_NAME={row['snomed_name']}\")\n",
    "\n",
    "result_df.to_csv(\"output_ICD10.csv\", index=False)  # Save without index\n",
    "\n",
    "# Unique ICD code count\n",
    "unique_icd_count = result_df['icd10_code'].nunique()\n",
    "\n",
    "# Count total records\n",
    "total_records = result_df.shape[0]\n",
    "\n",
    "# Print results\n",
    "print(f\"Unique ICD-10 Codes: {unique_icd_count}\")\n",
    "print(f\"Total Records: {total_records}\")\n",
    "\n",
    "print(\"Done!\") #97439 unique ICD 10 and Total record count: 128055\n",
    "               #17263 unique ICD 9 and Total record count: 19691"
   ]
  },
  {
   "cell_type": "markdown",
   "id": "80cd8896",
   "metadata": {},
   "source": [
    "### Compared with existing ICD10CM codes from TW 健保署"
   ]
  },
  {
   "cell_type": "code",
   "execution_count": 28,
   "id": "b1de62ea",
   "metadata": {},
   "outputs": [
    {
     "name": "stderr",
     "output_type": "stream",
     "text": [
      "C:\\ProgramData\\Anaconda3\\lib\\site-packages\\pandas\\core\\frame.py:5039: SettingWithCopyWarning: \n",
      "A value is trying to be set on a copy of a slice from a DataFrame\n",
      "\n",
      "See the caveats in the documentation: https://pandas.pydata.org/pandas-docs/stable/user_guide/indexing.html#returning-a-view-versus-a-copy\n",
      "  return super().rename(\n"
     ]
    },
    {
     "name": "stdout",
     "output_type": "stream",
     "text": [
      "start\n",
      "Unique TW ICD-10 Codes: 73681\n",
      "Unique ICD-10 Codes not in ICD10_SNOMED_CT table: 707\n",
      "Done!\n"
     ]
    }
   ],
   "source": [
    "import pandas as pd\n",
    "import pandasql as psql\n",
    "\n",
    "# Read CSV anc XLSX files into DataFrames\n",
    "\n",
    "file_path = \"2024_ICD10CM_TW.xlsx\"  # Change this to your file path\n",
    "sheet_name = \"ICD-10-CM\"  # Change this to the sheet you want to read\n",
    "\n",
    "# Read the Excel file into a DataFrame\n",
    "TW_ICD_df = pd.read_excel(file_path, sheet_name=sheet_name)\n",
    "\n",
    "filtered_df = TW_ICD_df[TW_ICD_df['USE'] == 1]\n",
    "\n",
    "ICD_SNOMED_df = pd.read_csv(r\"C:\\Users\\wuche\\Downloads\\output_ICD10.csv\", delimiter=\",\")  # concept table\n",
    "filtered_df.rename(columns={'2023年版\\nICD-10-CM': 'ICD10CM_code'}, inplace=True)\n",
    "\n",
    "# Run an SQL query on two DataFrames\n",
    "query= \"\"\"\n",
    "SELECT *\n",
    "FROM \n",
    "    filtered_df\n",
    "\n",
    "WHERE \n",
    "     ICD10CM_code NOT in (select icd10_code from ICD_SNOMED_df)\n",
    "    \n",
    "\n",
    "\"\"\"\n",
    "print(\"start\")\n",
    "result_df = psql.sqldf(query, locals())  # Execute SQL on DataFrame\n",
    "\n",
    "\n",
    "# Count total records\n",
    "total_records = result_df.shape[0]\n",
    "\n",
    "# Unique ICD code count\n",
    "unique_icd_count = result_df['ICD10CM_code'].nunique()\n",
    "\n",
    "unique_tw_icd_count = filtered_df['ICD10CM_code'].nunique()\n",
    "# Count total records\n",
    "total_records = result_df.shape[0]\n",
    "\n",
    "# Print results\n",
    "print(f\"Unique TW ICD-10 Codes: {unique_tw_icd_count}\")\n",
    "print(f\"Unique ICD-10 Codes not in ICD10_SNOMED_CT table: {unique_icd_count}\")\n",
    "\n",
    "print(\"Done!\") # 73681 unique ICD10 CODEs from TW dataset. But, 707 沒有在 ICD10_SNOMEDCT 對照檔中"
   ]
  },
  {
   "cell_type": "code",
   "execution_count": null,
   "id": "b8f3b8f2",
   "metadata": {},
   "outputs": [],
   "source": []
  }
 ],
 "metadata": {
  "kernelspec": {
   "display_name": "Python 3 (ipykernel)",
   "language": "python",
   "name": "python3"
  },
  "language_info": {
   "codemirror_mode": {
    "name": "ipython",
    "version": 3
   },
   "file_extension": ".py",
   "mimetype": "text/x-python",
   "name": "python",
   "nbconvert_exporter": "python",
   "pygments_lexer": "ipython3",
   "version": "3.9.7"
  }
 },
 "nbformat": 4,
 "nbformat_minor": 5
}
